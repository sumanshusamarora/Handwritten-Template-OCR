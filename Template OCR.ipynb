{
 "cells": [
  {
   "cell_type": "markdown",
   "metadata": {},
   "source": [
    "## Importing Libraries"
   ]
  },
  {
   "cell_type": "code",
   "execution_count": 1,
   "metadata": {},
   "outputs": [],
   "source": [
    "import pandas as pd\n",
    "import numpy as np\n",
    "import matplotlib.pyplot as plt\n",
    "%matplotlib inline\n",
    "\n",
    "import cv2\n",
    "import math\n",
    "from PIL import Image \n",
    "import math\n",
    "import os\n",
    "from os import listdir\n",
    "from os.path import isfile, join\n",
    "import sys\n",
    "from functools import reduce\n",
    "import operator\n",
    "from PIL import Image as im\n",
    "from scipy.ndimage import interpolation as inter\n",
    "from skimage.io import imread, imshow\n",
    "from skimage.filters import gaussian, threshold_otsu\n",
    "from skimage.feature import canny\n",
    "from skimage.transform import probabilistic_hough_line, rotate\n",
    "from skimage.measure import compare_ssim as ssim\n",
    "import tkinter as tk\n",
    "from tkinter import simpledialog\n",
    "ROOT = tk.Tk()\n",
    "ROOT.withdraw()\n",
    "import ctypes\n",
    "import pytesseract\n",
    "pytesseract.pytesseract.tesseract_cmd = r'C:\\Program Files\\Tesseract-OCR\\tesseract.exe'"
   ]
  },
  {
   "cell_type": "markdown",
   "metadata": {},
   "source": [
    "## Loading images"
   ]
  },
  {
   "cell_type": "code",
   "execution_count": 2,
   "metadata": {},
   "outputs": [
    {
     "name": "stdout",
     "output_type": "stream",
     "text": [
      "Base image size is - (4032, 3024, 3)\n",
      "Top image size is - (4032, 3024, 3)\n"
     ]
    }
   ],
   "source": [
    "base_image = cv2.imread(r'F:\\Work\\Upwork\\ZZZZ - Proposal and Tests\\Template OCR\\IMG_20200116_134509.jpg')\n",
    "top_image = cv2.imread(r'F:\\Work\\Upwork\\ZZZZ - Proposal and Tests\\Template OCR\\IMG_20200116_134557_copy.jpg')\n",
    "fake_top_image = cv2.imread(r'F:\\Work\\Upwork\\ZZZZ - Proposal and Tests\\Template OCR\\IMG_20200120_122027.jpg')\n",
    "print(\"Base image size is - {}\".format(str(base_image.shape)))\n",
    "print(\"Top image size is - {}\".format(str(top_image.shape)))"
   ]
  },
  {
   "cell_type": "markdown",
   "metadata": {},
   "source": [
    "### Deskewing function"
   ]
  },
  {
   "cell_type": "code",
   "execution_count": 3,
   "metadata": {},
   "outputs": [],
   "source": [
    "def rotateImage(image, angle):\n",
    "    angle = -1*angle\n",
    "    image_center = tuple(np.array(image.shape[1::-1]) / 2)\n",
    "    rot_mat = cv2.getRotationMatrix2D(image_center, angle, 1.0)\n",
    "    result = cv2.warpAffine(image, rot_mat, image.shape[1::-1], flags=cv2.INTER_LINEAR)\n",
    "    return result\n",
    "\n",
    "def deskew(image):\n",
    "    #threshold to get rid of extraneous noise\n",
    "    thresh = threshold_otsu(image)\n",
    "    normalize = image > thresh\n",
    "\n",
    "    # gaussian blur\n",
    "    blur = gaussian(normalize, 3)\n",
    "\n",
    "    # canny edges in scikit-image\n",
    "    edges = canny(blur)\n",
    "\n",
    "    # hough lines\n",
    "    hough_lines = probabilistic_hough_line(edges)\n",
    "\n",
    "    # hough lines returns a list of points, in the form ((x1, y1), (x2, y2))\n",
    "    # representing line segments. the first step is to calculate the slopes of\n",
    "    # these lines from their paired point values\n",
    "    slopes = [(y2 - y1)/(x2 - x1) if (x2-x1) else 0 for (x1,y1), (x2, y2) in hough_lines]\n",
    "\n",
    "    # it just so happens that this slope is also y where y = tan(theta), the angle\n",
    "    # in a circle by which the line is offset\n",
    "    rad_angles = [np.arctan(x) for x in slopes]\n",
    "\n",
    "    # and we change to degrees for the rotation\n",
    "    deg_angles = [np.degrees(x) for x in rad_angles]\n",
    "\n",
    "    # which of these degree values is most common?\n",
    "    histo = np.histogram(deg_angles, bins=180)\n",
    "    \n",
    "    # correcting for 'sideways' alignments\n",
    "    rotation_number = histo[1][np.argmax(histo[0])]\n",
    "\n",
    "    if rotation_number > 45:\n",
    "        rotation_number = -(90-rotation_number)\n",
    "    elif rotation_number < -45:\n",
    "        rotation_number = 90 - abs(rotation_number)\n",
    "\n",
    "    return rotation_number"
   ]
  },
  {
   "cell_type": "markdown",
   "metadata": {},
   "source": [
    "### Function to make image B&W, Resize and Gray"
   ]
  },
  {
   "cell_type": "code",
   "execution_count": 4,
   "metadata": {},
   "outputs": [],
   "source": [
    "def color_change_resize_and_print_img(img, cmap='gray', size_y=1200):\n",
    "    image_shape = img.shape\n",
    "    image_x_y_ratio = image_shape[1]/image_shape[0]\n",
    "    #Converting to black and white if image is colored\n",
    "    if len(image_shape) == 3:\n",
    "        img = cv2.cvtColor(img, cv2.COLOR_BGR2GRAY)\n",
    "    \n",
    "    rotation_angle = deskew(img)\n",
    "    img = rotateImage(img, rotation_angle)\n",
    "    print('Rotation angle is {}'.format(rotation_angle) + '\\n')  \n",
    "    \n",
    "    #resizing image\n",
    "    if image_shape[1] > size_y:\n",
    "        img = cv2.resize(img,(round(size_y*image_x_y_ratio),size_y),interpolation=cv2.INTER_AREA)\n",
    "    else:\n",
    "        img = cv2.resize(img,(round(size_y*image_x_y_ratio),size_y),interpolation=cv2.INTER_LINEAR)\n",
    "    \n",
    "    img = cv2.GaussianBlur(img,(5,5),0)\n",
    "    img = cv2.adaptiveThreshold(img,255,cv2.ADAPTIVE_THRESH_GAUSSIAN_C, cv2.THRESH_BINARY,7,2)\n",
    "    kernel = np.ones((1, 1), np.uint8)\n",
    "    opening = cv2.morphologyEx(img, cv2.MORPH_OPEN, kernel)\n",
    "    closing = cv2.morphologyEx(opening, cv2.MORPH_CLOSE, kernel)\n",
    "    or_image = cv2.bitwise_or(img, closing)\n",
    "    plt.imshow(img, cmap=cmap)\n",
    "    return img, size_y, round(size_y*image_x_y_ratio)"
   ]
  },
  {
   "cell_type": "code",
   "execution_count": 15,
   "metadata": {},
   "outputs": [
    {
     "name": "stdout",
     "output_type": "stream",
     "text": [
      "Rotation angle is 0.0\n",
      "\n"
     ]
    },
    {
     "data": {
      "image/png": "[encoded data removed]",
      "text/plain": [
       "<Figure size 432x288 with 1 Axes>"
      ]
     },
     "metadata": {
      "needs_background": "light"
     },
     "output_type": "display_data"
    }
   ],
   "source": [
    "base_image_converted, y_base_image, x_base_image = color_change_resize_and_print_img(base_image)"
   ]
  },
  {
   "cell_type": "code",
   "execution_count": 14,
   "metadata": {},
   "outputs": [
    {
     "name": "stdout",
     "output_type": "stream",
     "text": [
      "Rotation angle is 0.0\n",
      "\n"
     ]
    },
    {
     "data": {
      "image/png": "[encoded data removed]",
      "text/plain": [
       "<Figure size 432x288 with 1 Axes>"
      ]
     },
     "metadata": {
      "needs_background": "light"
     },
     "output_type": "display_data"
    }
   ],
   "source": [
    "top_image_converted, y_top_image, x_top_image = color_change_resize_and_print_img(top_image)"
   ]
  },
  {
   "cell_type": "code",
   "execution_count": 16,
   "metadata": {},
   "outputs": [
    {
     "name": "stdout",
     "output_type": "stream",
     "text": [
      "Rotation angle is -43.312106995518405\n",
      "\n"
     ]
    },
    {
     "data": {
      "image/png": "[encoded data removed]",
      "text/plain": [
       "<Figure size 432x288 with 1 Axes>"
      ]
     },
     "metadata": {
      "needs_background": "light"
     },
     "output_type": "display_data"
    }
   ],
   "source": [
    "fake_top_image_converted, y_fake_image, x_fake_image = color_change_resize_and_print_img(fake_top_image)"
   ]
  },
  {
   "cell_type": "code",
   "execution_count": 5,
   "metadata": {},
   "outputs": [],
   "source": [
    "# Create a function based on a CV2 Event (Left button click)\n",
    "class image_annotation:\n",
    "    def __init__(self, folder_path:str = \"\"):\n",
    "        if folder_path == '':\n",
    "            self.folder_path = sys.path[len(sys.path)-1] + \"\\\\Data\"\n",
    "        else:\n",
    "            self.folder_path = folder_path\n",
    "        self.image_name = \"\"\n",
    "        self.pt1 = (0,0)\n",
    "        self.pt2 = (0,0)\n",
    "        self.user_input = None\n",
    "        self.topLeft_clicked = False\n",
    "        self.botRight_clicked = False\n",
    "        self.pts_list = []\n",
    "        self.pts_list_final = []\n",
    "        self.pts_dict = dict()\n",
    "        self.annotated_df = pd.DataFrame()\n",
    "        self.by_image = False\n",
    "        self.key = False\n",
    "        self.value = False\n",
    "        \n",
    "    # mouse callback function\n",
    "    def draw_rectangle(self, event,x,y,flags,param):\n",
    "        # get mouse click\n",
    "        if event == cv2.EVENT_LBUTTONDOWN:\n",
    "            if self.topLeft_clicked == True and self.botRight_clicked == True:\n",
    "                self.topLeft_clicked = False\n",
    "                self.botRight_clicked = False\n",
    "                self.pt1 = (0,0)\n",
    "                self.pt2 = (0,0)\n",
    "    \n",
    "            if self.topLeft_clicked == False:\n",
    "                self.pt1 = (x,y)\n",
    "                self.pts_list.append(self.pt1)\n",
    "                self.topLeft_clicked = True\n",
    "                \n",
    "            elif self.botRight_clicked == False:\n",
    "                self.pt2 = (x,y)\n",
    "                self.pts_list.append(self.pt2)\n",
    "                self.botRight_clicked = True\n",
    "                if self.by_image==True and self.key==True and self.value==False:\n",
    "                    ctypes.windll.user32.MessageBoxW(0, \"Please draw rectangle around area containing respective value\", \"MLAI says\", 1)\n",
    "                    self.value = True\n",
    "                    self.key=False\n",
    "                elif self.by_image==True and self.key==False and self.value==True:\n",
    "                    self.user_input = simpledialog.askstring(title=\"MLAI asks\",  prompt=\"What is this key-value pair called?\")\n",
    "                    ctypes.windll.user32.MessageBoxW(0, \"Hello, Please draw rectangle around area containing the key or press esc to exit\", \"MLAI says\", 1)\n",
    "                    self.key = True\n",
    "                    self.value = False\n",
    "                    self.pts_dict[self.user_input] = \"\"\n",
    "                else:\n",
    "                    pass\n",
    "    \n",
    "    def annotate_by_image_name(self, image_name:str = \"\"):\n",
    "        self.pt1 = (0,0)\n",
    "        self.pt2 = (0,0)\n",
    "        self.topLeft_clicked = False\n",
    "        self.botRight_clicked = False\n",
    "        self.pts_list = []\n",
    "        self.pts_list_final = []\n",
    "        self.pts_dict = dict()\n",
    "        self.image_name = image_name\n",
    "        # Haven't drawn anything yet!        \n",
    "        img = cv2.imread(os.path.join(self.folder_path, self.image_name))\n",
    "        img, y_image, x_image = color_change_resize_and_print_img(img)\n",
    "        img_copy = img.copy()\n",
    "        # Create a named window for connections\n",
    "        cv2.namedWindow(winname=self.image_name)\n",
    "        # Connects the mouse button to our callback function\n",
    "        cv2.setMouseCallback(self.image_name,self.draw_rectangle)\n",
    "        while True: #Runs forever until we break with Esc key on keyboard\n",
    "            # Shows the image window\n",
    "            cv2.imshow(self.image_name,img)\n",
    "            if self.topLeft_clicked:\n",
    "                cv2.circle(img, center=self.pt1, radius=5, color=(0,0,255), thickness=-1)\n",
    "            #drawing rectangle\n",
    "            if self.topLeft_clicked and self.botRight_clicked:\n",
    "                cv2.rectangle(img, self.pt1, self.pt2, (0, 0, 255), 2)\n",
    "            # EXPLANATION FOR THIS LINE OF CODE:\n",
    "            # https://stackoverflow.com/questions/35372700/whats-0xff-for-in-cv2-waitkey1/39201163\n",
    "            #if cv2.waitKey(1) & 0xFF == ord('q'):\n",
    "            k = cv2.waitKey(1)\n",
    "            if k == 27 or k == ord('s') or k == ord('q') or k == ord('z') or k == ord('w') or k == ord('a'):\n",
    "                break\n",
    "        # Once script is done, its usually good practice to call this line\n",
    "        # It closes all windows (just in case you have multiple windows called)\n",
    "        cv2.destroyAllWindows()\n",
    "        for i in range(0,len(self.pts_list),2):\n",
    "            try:\n",
    "                self.pts_list_final.append([self.pts_list[i], self.pts_list[i+1]])\n",
    "            except:\n",
    "                continue\n",
    "        return img_copy, self.pts_list_final\n",
    "    \n",
    "    \n",
    "    def annotate_by_image(self, image, image_save_name=\"Image\"):\n",
    "        self.pt1 = (0,0)\n",
    "        self.pt2 = (0,0)\n",
    "        self.topLeft_clicked = False\n",
    "        self.botRight_clicked = False\n",
    "        self.pts_list = []\n",
    "        self.pts_list_final = []\n",
    "        self.pts_dict = dict()\n",
    "        self.image_name = image_save_name\n",
    "        self.img = image.copy()\n",
    "        self.Input_dict = dict()\n",
    "        # Haven't drawn anything yet!        \n",
    "        # Create a named window for connections\n",
    "        cv2.namedWindow(winname=self.image_name)\n",
    "        # Connects the mouse button to our callback function\n",
    "        cv2.setMouseCallback(self.image_name,self.draw_rectangle)\n",
    "        self.by_image=True\n",
    "        ctypes.windll.user32.MessageBoxW(0, \"Please draw rectangle around area containing the key\", \"MLAI says\", 1)\n",
    "        self.key = True\n",
    "        #messagebox.showinfo(\"Hello\", \"Please draw rectangle around area containing the key\")\n",
    "        \n",
    "        \n",
    "        while True: #Runs forever until we break with Esc key on keyboard\n",
    "            # Shows the image window\n",
    "            cv2.imshow(self.image_name, self.img)\n",
    "            if self.topLeft_clicked:\n",
    "                cv2.circle(self.img, center=self.pt1, radius=5, color=(0,0,255), thickness=-2)\n",
    "            #drawing rectangle\n",
    "            if self.topLeft_clicked and self.botRight_clicked:\n",
    "                if not self.pt2 == (0,0):\n",
    "                    cv2.rectangle(self.img, self.pt1, self.pt2, (0, 0, 255), 1)\n",
    "            # EXPLANATION FOR THIS LINE OF CODE:\n",
    "            # https://stackoverflow.com/questions/35372700/whats-0xff-for-in-cv2-waitkey1/39201163\n",
    "            #if cv2.waitKey(1) & 0xFF == ord('q'):\n",
    "            k = cv2.waitKey(1)\n",
    "            if k == 27 or k == ord('s') or k == ord('q') or k == ord('z') or k == ord('w') or k == ord('a'):\n",
    "                break\n",
    "        # Once script is done, its usually good practice to call this line\n",
    "        # It closes all windows (just in case you have multiple windows called)\n",
    "        cv2.destroyAllWindows()\n",
    "        for i in range(0,len(self.pts_list),2):\n",
    "            try:\n",
    "                self.pts_list_final.append([self.pts_list[i], self.pts_list[i+1]])\n",
    "            except:\n",
    "                continue\n",
    "            \n",
    "        return self.pts_list_final, self.pts_dict"
   ]
  },
  {
   "cell_type": "code",
   "execution_count": 6,
   "metadata": {},
   "outputs": [],
   "source": [
    "img_annotate = image_annotation(folder_path=r'F:\\Work\\Upwork\\ZZZZ - Proposal and Tests\\Template OCR')"
   ]
  },
  {
   "cell_type": "markdown",
   "metadata": {},
   "source": [
    "### User to input template features for template matching exercise (all constant features)"
   ]
  },
  {
   "cell_type": "code",
   "execution_count": 7,
   "metadata": {},
   "outputs": [
    {
     "name": "stdout",
     "output_type": "stream",
     "text": [
      "Rotation angle is 0.0\n",
      "\n"
     ]
    },
    {
     "data": {
      "image/png": "[encoded data removed]",
      "text/plain": [
       "<Figure size 432x288 with 1 Axes>"
      ]
     },
     "metadata": {
      "needs_background": "light"
     },
     "output_type": "display_data"
    }
   ],
   "source": [
    "new_image, saved_annotations = img_annotate.annotate_by_image_name('IMG_20200116_134509.jpg')"
   ]
  },
  {
   "cell_type": "markdown",
   "metadata": {},
   "source": [
    "### Getting Key-Value Pairs Inputs for first time"
   ]
  },
  {
   "cell_type": "code",
   "execution_count": 9,
   "metadata": {},
   "outputs": [],
   "source": [
    "#Key-Value pair annotation\n",
    "key_value_saved_annotations, points_dict = img_annotate.annotate_by_image(image=new_image)"
   ]
  },
  {
   "cell_type": "code",
   "execution_count": 10,
   "metadata": {},
   "outputs": [],
   "source": [
    "i = 0\n",
    "for key in list(points_dict.keys()):\n",
    "    points_dict[key] = [key_value_saved_annotations[i], key_value_saved_annotations[i+1]]\n",
    "    i = i+2"
   ]
  },
  {
   "cell_type": "code",
   "execution_count": 11,
   "metadata": {},
   "outputs": [
    {
     "data": {
      "text/plain": [
       "{'Name': [[(185, 461), (450, 493)], [(452, 464), (750, 492)]],\n",
       " 'Address': [[(184, 688), (449, 851)], [(454, 686), (751, 854)]]}"
      ]
     },
     "execution_count": 11,
     "metadata": {},
     "output_type": "execute_result"
    }
   ],
   "source": [
    "points_dict"
   ]
  },
  {
   "cell_type": "markdown",
   "metadata": {},
   "source": [
    "# Below function is no longer being used\n",
    "\n",
    "def template_match(image_to_match, base_image, method = cv2.TM_CCORR):\n",
    "    height, width = image_to_match.shape\n",
    "    result = cv2.matchTemplate(image_to_match, base_image, method)\n",
    "    # We want the minimum squared difference\n",
    "    min_val, max_val, min_loc, max_loc = cv2.minMaxLoc(result)\n",
    "    if method in [cv2.TM_SQDIFF, cv2.TM_SQDIFF_NORMED]:\n",
    "        top_left = min_loc    \n",
    "    else:\n",
    "        top_left = max_loc\n",
    "        \n",
    "    # Assign the Bottom Right of the rectangle\n",
    "    bottom_right = (top_left[0] + width, top_left[1] + height)\n",
    "    \n",
    "    # Draw the Red Rectangle\n",
    "    rect_image_top_matched = cv2.cvtColor(base_image, cv2.COLOR_GRAY2RGB)\n",
    "    rect_image_top_matched = cv2.rectangle(rect_image_top_matched,top_left, bottom_right, 255, 10)\n",
    "    return rect_image_top_matched, (top_left, bottom_right), None, None"
   ]
  },
  {
   "cell_type": "code",
   "execution_count": 12,
   "metadata": {},
   "outputs": [],
   "source": [
    "def template_match(image_to_match, base_image, method = cv2.TM_CCORR, scale_invariant=False):\n",
    "    height, width = base_image.shape\n",
    "    max_coff = (0,0,(0,0),(0,0))\n",
    "    best_height = 0\n",
    "    best_width = 0\n",
    "    best_scale_y = 0\n",
    "    best_scale_x = 0\n",
    "    best_resized_image = None\n",
    "    if scale_invariant:\n",
    "        for scale in np.linspace(0.5, 1.5, 15)[::-1]:\n",
    "            new_height = round(height*scale)\n",
    "            for scale_y in np.linspace(0.5, 1.5, 15)[::-1]:\n",
    "                new_width = round(width*scale_y)\n",
    "                try:\n",
    "                    base_image_resized = cv2.resize(base_image, (int(new_height),int(new_width)), interpolation=cv2.INTER_LINEAR)\n",
    "                    print(\"Reshaped from {} to {}\".format(str(base_image.shape), str(base_image_resized.shape)))\n",
    "                    result = cv2.matchTemplate(image_to_match, base_image_resized, method)\n",
    "                    # We want the minimum squared difference\n",
    "                    min_val, max_val, min_loc, max_loc = cv2.minMaxLoc(result)\n",
    "                    if max_val > max_coff[1]:\n",
    "                        print(\"Max Coff is : {}\".format(str(max_coff[1])))\n",
    "                        max_coff = (min_val, max_val, min_loc, max_loc)\n",
    "                        best_scale_y = scale_y\n",
    "                        best_scale_x = scale\n",
    "                        best_resized_image = base_image_resized.copy()\n",
    "                except:\n",
    "                    print(\"Error with new_height {}, new_width {}\".format(str(new_height), str(new_width)))\n",
    "                    continue\n",
    "    else:\n",
    "        result = cv2.matchTemplate(image_to_match, base_image, method)\n",
    "        min_val, max_val, min_loc, max_loc = cv2.minMaxLoc(result)\n",
    "        best_scale_y = None\n",
    "        best_scale_x = None\n",
    "        best_resized_image = base_image.copy()\n",
    "        max_coff = (min_val, max_val, min_loc, max_loc)   \n",
    "\n",
    "    if method in [cv2.TM_SQDIFF, cv2.TM_SQDIFF_NORMED]:\n",
    "        top_left = max_coff[2]\n",
    "    else:\n",
    "        top_left = max_coff[3]\n",
    "    \n",
    "    best_height = image_to_match.shape[0]\n",
    "    best_width = image_to_match.shape[1]\n",
    "    bottom_right = (int(top_left[0] + best_width), int(top_left[1] + best_height))\n",
    "    return best_resized_image, (top_left, bottom_right), best_scale_y, best_scale_x"
   ]
  },
  {
   "cell_type": "code",
   "execution_count": 18,
   "metadata": {},
   "outputs": [
    {
     "name": "stdout",
     "output_type": "stream",
     "text": [
      "Working on annotaion 0\n",
      "Reshaped from (1200, 900) to (1350, 1800)\n",
      "Max Coff is : 0\n",
      "Reshaped from (1200, 900) to (1286, 1800)\n",
      "Max Coff is : 0.17451635003089905\n",
      "Reshaped from (1200, 900) to (1221, 1800)\n",
      "Max Coff is : 0.18184633553028107\n",
      "Reshaped from (1200, 900) to (1157, 1800)\n",
      "Max Coff is : 0.18903198838233948\n",
      "Reshaped from (1200, 900) to (1093, 1800)\n",
      "Max Coff is : 0.1892053484916687\n",
      "Reshaped from (1200, 900) to (1029, 1800)\n",
      "Reshaped from (1200, 900) to (964, 1800)\n",
      "Reshaped from (1200, 900) to (900, 1800)\n",
      "Reshaped from (1200, 900) to (836, 1800)\n",
      "Reshaped from (1200, 900) to (771, 1800)\n",
      "Reshaped from (1200, 900) to (707, 1800)\n",
      "Reshaped from (1200, 900) to (643, 1800)\n",
      "Reshaped from (1200, 900) to (579, 1800)\n",
      "Reshaped from (1200, 900) to (514, 1800)\n",
      "Reshaped from (1200, 900) to (450, 1800)\n",
      "Reshaped from (1200, 900) to (1350, 1714)\n",
      "Reshaped from (1200, 900) to (1286, 1714)\n",
      "Reshaped from (1200, 900) to (1221, 1714)\n",
      "Reshaped from (1200, 900) to (1157, 1714)\n",
      "Reshaped from (1200, 900) to (1093, 1714)\n",
      "Max Coff is : 0.2143014520406723\n",
      "Reshaped from (1200, 900) to (1029, 1714)\n",
      "Reshaped from (1200, 900) to (964, 1714)\n",
      "Reshaped from (1200, 900) to (900, 1714)\n",
      "Reshaped from (1200, 900) to (836, 1714)\n",
      "Reshaped from (1200, 900) to (771, 1714)\n",
      "Reshaped from (1200, 900) to (707, 1714)\n",
      "Reshaped from (1200, 900) to (643, 1714)\n",
      "Reshaped from (1200, 900) to (579, 1714)\n",
      "Reshaped from (1200, 900) to (514, 1714)\n",
      "Reshaped from (1200, 900) to (450, 1714)\n",
      "Reshaped from (1200, 900) to (1350, 1629)\n",
      "Reshaped from (1200, 900) to (1286, 1629)\n",
      "Reshaped from (1200, 900) to (1221, 1629)\n",
      "Reshaped from (1200, 900) to (1157, 1629)\n",
      "Reshaped from (1200, 900) to (1093, 1629)\n",
      "Max Coff is : 0.22250118851661682\n",
      "Reshaped from (1200, 900) to (1029, 1629)\n",
      "Reshaped from (1200, 900) to (964, 1629)\n",
      "Reshaped from (1200, 900) to (900, 1629)\n",
      "Reshaped from (1200, 900) to (836, 1629)\n",
      "Reshaped from (1200, 900) to (771, 1629)\n",
      "Reshaped from (1200, 900) to (707, 1629)\n",
      "Reshaped from (1200, 900) to (643, 1629)\n",
      "Reshaped from (1200, 900) to (579, 1629)\n",
      "Reshaped from (1200, 900) to (514, 1629)\n",
      "Reshaped from (1200, 900) to (450, 1629)\n",
      "Reshaped from (1200, 900) to (1350, 1543)\n",
      "Reshaped from (1200, 900) to (1286, 1543)\n",
      "Reshaped from (1200, 900) to (1221, 1543)\n",
      "Reshaped from (1200, 900) to (1157, 1543)\n",
      "Reshaped from (1200, 900) to (1093, 1543)\n",
      "Max Coff is : 0.22564300894737244\n",
      "Reshaped from (1200, 900) to (1029, 1543)\n",
      "Reshaped from (1200, 900) to (964, 1543)\n",
      "Reshaped from (1200, 900) to (900, 1543)\n",
      "Reshaped from (1200, 900) to (836, 1543)\n",
      "Reshaped from (1200, 900) to (771, 1543)\n",
      "Reshaped from (1200, 900) to (707, 1543)\n",
      "Reshaped from (1200, 900) to (643, 1543)\n",
      "Reshaped from (1200, 900) to (579, 1543)\n",
      "Reshaped from (1200, 900) to (514, 1543)\n",
      "Reshaped from (1200, 900) to (450, 1543)\n",
      "Reshaped from (1200, 900) to (1350, 1457)\n",
      "Reshaped from (1200, 900) to (1286, 1457)\n",
      "Reshaped from (1200, 900) to (1221, 1457)\n",
      "Reshaped from (1200, 900) to (1157, 1457)\n",
      "Reshaped from (1200, 900) to (1093, 1457)\n",
      "Reshaped from (1200, 900) to (1029, 1457)\n",
      "Reshaped from (1200, 900) to (964, 1457)\n",
      "Reshaped from (1200, 900) to (900, 1457)\n",
      "Reshaped from (1200, 900) to (836, 1457)\n",
      "Reshaped from (1200, 900) to (771, 1457)\n",
      "Reshaped from (1200, 900) to (707, 1457)\n",
      "Reshaped from (1200, 900) to (643, 1457)\n",
      "Reshaped from (1200, 900) to (579, 1457)\n",
      "Reshaped from (1200, 900) to (514, 1457)\n",
      "Reshaped from (1200, 900) to (450, 1457)\n",
      "Reshaped from (1200, 900) to (1350, 1371)\n",
      "Reshaped from (1200, 900) to (1286, 1371)\n",
      "Reshaped from (1200, 900) to (1221, 1371)\n",
      "Reshaped from (1200, 900) to (1157, 1371)\n",
      "Reshaped from (1200, 900) to (1093, 1371)\n",
      "Reshaped from (1200, 900) to (1029, 1371)\n",
      "Reshaped from (1200, 900) to (964, 1371)\n",
      "Reshaped from (1200, 900) to (900, 1371)\n",
      "Reshaped from (1200, 900) to (836, 1371)\n",
      "Reshaped from (1200, 900) to (771, 1371)\n",
      "Reshaped from (1200, 900) to (707, 1371)\n",
      "Reshaped from (1200, 900) to (643, 1371)\n",
      "Reshaped from (1200, 900) to (579, 1371)\n",
      "Reshaped from (1200, 900) to (514, 1371)\n",
      "Reshaped from (1200, 900) to (450, 1371)\n",
      "Reshaped from (1200, 900) to (1350, 1286)\n",
      "Reshaped from (1200, 900) to (1286, 1286)\n",
      "Reshaped from (1200, 900) to (1221, 1286)\n",
      "Reshaped from (1200, 900) to (1157, 1286)\n",
      "Reshaped from (1200, 900) to (1093, 1286)\n",
      "Max Coff is : 0.22590872645378113\n",
      "Reshaped from (1200, 900) to (1029, 1286)\n",
      "Reshaped from (1200, 900) to (964, 1286)\n",
      "Reshaped from (1200, 900) to (900, 1286)\n",
      "Reshaped from (1200, 900) to (836, 1286)\n",
      "Reshaped from (1200, 900) to (771, 1286)\n",
      "Reshaped from (1200, 900) to (707, 1286)\n",
      "Reshaped from (1200, 900) to (643, 1286)\n",
      "Reshaped from (1200, 900) to (579, 1286)\n",
      "Reshaped from (1200, 900) to (514, 1286)\n",
      "Reshaped from (1200, 900) to (450, 1286)\n",
      "Reshaped from (1200, 900) to (1350, 1200)\n",
      "Reshaped from (1200, 900) to (1286, 1200)\n",
      "Reshaped from (1200, 900) to (1221, 1200)\n",
      "Reshaped from (1200, 900) to (1157, 1200)\n",
      "Reshaped from (1200, 900) to (1093, 1200)\n",
      "Reshaped from (1200, 900) to (1029, 1200)\n",
      "Reshaped from (1200, 900) to (964, 1200)\n",
      "Reshaped from (1200, 900) to (900, 1200)\n",
      "Reshaped from (1200, 900) to (836, 1200)\n",
      "Reshaped from (1200, 900) to (771, 1200)\n",
      "Reshaped from (1200, 900) to (707, 1200)\n",
      "Reshaped from (1200, 900) to (643, 1200)\n",
      "Reshaped from (1200, 900) to (579, 1200)\n",
      "Reshaped from (1200, 900) to (514, 1200)\n",
      "Reshaped from (1200, 900) to (450, 1200)\n",
      "Reshaped from (1200, 900) to (1350, 1114)\n",
      "Reshaped from (1200, 900) to (1286, 1114)\n",
      "Reshaped from (1200, 900) to (1221, 1114)\n",
      "Reshaped from (1200, 900) to (1157, 1114)\n",
      "Reshaped from (1200, 900) to (1093, 1114)\n",
      "Max Coff is : 0.23718135058879852\n",
      "Reshaped from (1200, 900) to (1029, 1114)\n",
      "Reshaped from (1200, 900) to (964, 1114)\n",
      "Reshaped from (1200, 900) to (900, 1114)\n",
      "Reshaped from (1200, 900) to (836, 1114)\n",
      "Reshaped from (1200, 900) to (771, 1114)\n",
      "Reshaped from (1200, 900) to (707, 1114)\n",
      "Reshaped from (1200, 900) to (643, 1114)\n",
      "Reshaped from (1200, 900) to (579, 1114)\n",
      "Reshaped from (1200, 900) to (514, 1114)\n",
      "Reshaped from (1200, 900) to (450, 1114)\n",
      "Reshaped from (1200, 900) to (1350, 1029)\n",
      "Reshaped from (1200, 900) to (1286, 1029)\n",
      "Reshaped from (1200, 900) to (1221, 1029)\n",
      "Reshaped from (1200, 900) to (1157, 1029)\n",
      "Reshaped from (1200, 900) to (1093, 1029)\n",
      "Reshaped from (1200, 900) to (1029, 1029)\n",
      "Reshaped from (1200, 900) to (964, 1029)\n",
      "Reshaped from (1200, 900) to (900, 1029)\n",
      "Reshaped from (1200, 900) to (836, 1029)\n",
      "Reshaped from (1200, 900) to (771, 1029)\n",
      "Reshaped from (1200, 900) to (707, 1029)\n",
      "Reshaped from (1200, 900) to (643, 1029)\n",
      "Reshaped from (1200, 900) to (579, 1029)\n",
      "Reshaped from (1200, 900) to (514, 1029)\n",
      "Reshaped from (1200, 900) to (450, 1029)\n",
      "Reshaped from (1200, 900) to (1350, 943)\n",
      "Reshaped from (1200, 900) to (1286, 943)\n",
      "Reshaped from (1200, 900) to (1221, 943)\n",
      "Reshaped from (1200, 900) to (1157, 943)\n",
      "Reshaped from (1200, 900) to (1093, 943)\n",
      "Max Coff is : 0.24296367168426514\n",
      "Reshaped from (1200, 900) to (1029, 943)\n",
      "Reshaped from (1200, 900) to (964, 943)\n",
      "Reshaped from (1200, 900) to (900, 943)\n",
      "Reshaped from (1200, 900) to (836, 943)\n",
      "Reshaped from (1200, 900) to (771, 943)\n",
      "Reshaped from (1200, 900) to (707, 943)\n",
      "Reshaped from (1200, 900) to (643, 943)\n",
      "Reshaped from (1200, 900) to (579, 943)\n",
      "Reshaped from (1200, 900) to (514, 943)\n",
      "Reshaped from (1200, 900) to (450, 943)\n",
      "Reshaped from (1200, 900) to (1350, 857)\n",
      "Reshaped from (1200, 900) to (1286, 857)\n",
      "Reshaped from (1200, 900) to (1221, 857)\n",
      "Reshaped from (1200, 900) to (1157, 857)\n",
      "Reshaped from (1200, 900) to (1093, 857)\n",
      "Max Coff is : 0.25527095794677734\n",
      "Reshaped from (1200, 900) to (1029, 857)\n",
      "Reshaped from (1200, 900) to (964, 857)\n",
      "Reshaped from (1200, 900) to (900, 857)\n",
      "Reshaped from (1200, 900) to (836, 857)\n",
      "Reshaped from (1200, 900) to (771, 857)\n",
      "Reshaped from (1200, 900) to (707, 857)\n",
      "Reshaped from (1200, 900) to (643, 857)\n",
      "Reshaped from (1200, 900) to (579, 857)\n",
      "Reshaped from (1200, 900) to (514, 857)\n",
      "Reshaped from (1200, 900) to (450, 857)\n",
      "Reshaped from (1200, 900) to (1350, 771)\n",
      "Max Coff is : 0.26955685019493103\n",
      "Reshaped from (1200, 900) to (1286, 771)\n",
      "Max Coff is : 0.2761754095554352\n",
      "Reshaped from (1200, 900) to (1221, 771)\n",
      "Max Coff is : 0.3325228691101074\n",
      "Reshaped from (1200, 900) to (1157, 771)\n",
      "Max Coff is : 0.4086340069770813\n",
      "Reshaped from (1200, 900) to (1093, 771)\n",
      "Max Coff is : 0.49555471539497375\n",
      "Reshaped from (1200, 900) to (1029, 771)\n",
      "Reshaped from (1200, 900) to (964, 771)\n",
      "Reshaped from (1200, 900) to (900, 771)\n"
     ]
    },
    {
     "name": "stdout",
     "output_type": "stream",
     "text": [
      "Reshaped from (1200, 900) to (836, 771)\n",
      "Reshaped from (1200, 900) to (771, 771)\n",
      "Reshaped from (1200, 900) to (707, 771)\n",
      "Reshaped from (1200, 900) to (643, 771)\n",
      "Reshaped from (1200, 900) to (579, 771)\n",
      "Reshaped from (1200, 900) to (514, 771)\n",
      "Reshaped from (1200, 900) to (450, 771)\n",
      "Reshaped from (1200, 900) to (1350, 686)\n",
      "Reshaped from (1200, 900) to (1286, 686)\n",
      "Reshaped from (1200, 900) to (1221, 686)\n",
      "Reshaped from (1200, 900) to (1157, 686)\n",
      "Reshaped from (1200, 900) to (1093, 686)\n",
      "Reshaped from (1200, 900) to (1029, 686)\n",
      "Reshaped from (1200, 900) to (964, 686)\n",
      "Reshaped from (1200, 900) to (900, 686)\n",
      "Reshaped from (1200, 900) to (836, 686)\n",
      "Reshaped from (1200, 900) to (771, 686)\n",
      "Reshaped from (1200, 900) to (707, 686)\n",
      "Reshaped from (1200, 900) to (643, 686)\n",
      "Reshaped from (1200, 900) to (579, 686)\n",
      "Reshaped from (1200, 900) to (514, 686)\n",
      "Reshaped from (1200, 900) to (450, 686)\n",
      "Reshaped from (1200, 900) to (1350, 600)\n",
      "Reshaped from (1200, 900) to (1286, 600)\n",
      "Reshaped from (1200, 900) to (1221, 600)\n",
      "Reshaped from (1200, 900) to (1157, 600)\n",
      "Reshaped from (1200, 900) to (1093, 600)\n",
      "Reshaped from (1200, 900) to (1029, 600)\n",
      "Reshaped from (1200, 900) to (964, 600)\n",
      "Reshaped from (1200, 900) to (900, 600)\n",
      "Reshaped from (1200, 900) to (836, 600)\n",
      "Reshaped from (1200, 900) to (771, 600)\n",
      "Reshaped from (1200, 900) to (707, 600)\n",
      "Reshaped from (1200, 900) to (643, 600)\n",
      "Reshaped from (1200, 900) to (579, 600)\n",
      "Reshaped from (1200, 900) to (514, 600)\n",
      "Reshaped from (1200, 900) to (450, 600)\n",
      "Working on annotaion 1\n",
      "Working on annotaion 2\n",
      "Working on annotaion 3\n"
     ]
    }
   ],
   "source": [
    "matched_cordinates_list = []\n",
    "Top_left_bottom_right_cordinates_list = []\n",
    "for i, annotation in enumerate(saved_annotations):\n",
    "    print(\"Working on annotaion {}\".format(str(i)))\n",
    "    image_zone = new_image[annotation[0][1]:annotation[1][1], annotation[0][0]:annotation[1][0]]\n",
    "    if i == 0:\n",
    "        matched_image, match_cordinates, best_scale_y, best_scale_x = template_match(image_zone, top_image_converted, method=cv2.TM_CCOEFF_NORMED, scale_invariant=True)\n",
    "        matched_cordinates_list.append(match_cordinates)\n",
    "        Top_left_bottom_right_cordinates_list.append(match_cordinates)\n",
    "    else:\n",
    "        matched_image, match_cordinates, best_scale_y, best_scale_x = template_match(image_zone, matched_image, method=cv2.TM_CCOEFF_NORMED, scale_invariant=False)\n",
    "        matched_cordinates_list.append(match_cordinates)\n",
    "        Top_left_bottom_right_cordinates_list.append(match_cordinates)"
   ]
  },
  {
   "cell_type": "code",
   "execution_count": 25,
   "metadata": {},
   "outputs": [],
   "source": [
    "rect_image_top_matched_temp = cv2.cvtColor(matched_image, cv2.COLOR_GRAY2RGB)\n",
    "rect_image_top_matched = rect_image_top_matched_temp.copy()\n",
    "for i in range(len(Top_left_bottom_right_cordinates_list)):\n",
    "    rect_image_top_matched = cv2.rectangle(rect_image_top_matched, Top_left_bottom_right_cordinates_list[i][0], Top_left_bottom_right_cordinates_list[i][1], (0,255,0), 5)"
   ]
  },
  {
   "cell_type": "code",
   "execution_count": 26,
   "metadata": {},
   "outputs": [
    {
     "data": {
      "text/plain": [
       "True"
      ]
     },
     "execution_count": 26,
     "metadata": {},
     "output_type": "execute_result"
    },
    {
     "data": {
      "image/png": "[encoded data removed]",
      "text/plain": [
       "<Figure size 432x288 with 1 Axes>"
      ]
     },
     "metadata": {
      "needs_background": "light"
     },
     "output_type": "display_data"
    }
   ],
   "source": [
    "plt.imshow(rect_image_top_matched)\n",
    "cv2.imwrite('image.jpg', rect_image_top_matched)"
   ]
  },
  {
   "cell_type": "markdown",
   "metadata": {},
   "source": [
    "### Get a similarity score between labelled static form data to see if both forms are same or not"
   ]
  },
  {
   "cell_type": "code",
   "execution_count": 27,
   "metadata": {},
   "outputs": [],
   "source": [
    "def mse(imageA, imageB):\n",
    "    # the 'Mean Squared Error' between the two images is the sum of the squared difference between the two images;\n",
    "    # NOTE: the two images must have the same dimension\n",
    "    err = np.sum((imageA.astype(\"float\") - imageB.astype(\"float\")) ** 2)\n",
    "    err /= float(imageA.shape[0] * imageA.shape[1])\n",
    "    # return the MSE, the lower the error, the more \"similar\" the two images are\n",
    "    return err\n",
    " \n",
    "def compare_images(imageA, imageB):\n",
    "    # compute the mean squared error and structural similarity index for the images\n",
    "    m = mse(imageA, imageB)\n",
    "    s = ssim(imageA, imageB)\n",
    "    return m, s"
   ]
  },
  {
   "cell_type": "code",
   "execution_count": 28,
   "metadata": {},
   "outputs": [
    {
     "name": "stdout",
     "output_type": "stream",
     "text": [
      "RMS is 6940.8527604726105 and SSE is 0.6164745860279678\n",
      "RMS is 17583.819130732376 and SSE is 0.3127457485638389\n",
      "RMS is 11383.668859649122 and SSE is 0.479934529564617\n",
      "RMS is 15546.59407979408 and SSE is 0.30556820956582903\n"
     ]
    },
    {
     "name": "stderr",
     "output_type": "stream",
     "text": [
      "C:\\Users\\suman\\Anaconda3\\envs\\spyder\\lib\\site-packages\\ipykernel_launcher.py:12: UserWarning: DEPRECATED: skimage.measure.compare_ssim has been moved to skimage.metrics.structural_similarity. It will be removed from skimage.measure in version 0.18.\n",
      "  if sys.path[0] == '':\n"
     ]
    }
   ],
   "source": [
    "sse_arr = np.zeros((1, len(saved_annotations)))\n",
    "for i, annotation in enumerate(saved_annotations):\n",
    "    image_zone = new_image[annotation[0][1]:annotation[1][1], annotation[0][0]:annotation[1][0]]\n",
    "    comapison_image_zone = matched_image[Top_left_bottom_right_cordinates_list[i][0][1]:Top_left_bottom_right_cordinates_list[i][1][1], Top_left_bottom_right_cordinates_list[i][0][0]:Top_left_bottom_right_cordinates_list[i][1][0]]\n",
    "    m, s = compare_images(image_zone, comapison_image_zone)\n",
    "    sse_arr[0][i] = s\n",
    "    print(\"RMS is {} and SSE is {}\".format(str(m), str(s)))\n",
    "if sse_arr.mean() < 0.5 and len(np.where(sse_arr > .5)) == 0:\n",
    "    print(\"Input form does not match the base template. Please verify the image or load a clearer image.\")"
   ]
  },
  {
   "cell_type": "markdown",
   "metadata": {},
   "source": [
    "### Extracting values from OCR"
   ]
  },
  {
   "cell_type": "code",
   "execution_count": 29,
   "metadata": {},
   "outputs": [
    {
     "name": "stdout",
     "output_type": "stream",
     "text": [
      "[[(185, 461), (450, 493)], [(452, 464), (750, 492)]]\n",
      "[[(184, 688), (449, 851)], [(454, 686), (751, 854)]]\n"
     ]
    }
   ],
   "source": [
    "for key in list(points_dict.keys()):\n",
    "    print(points_dict[key])"
   ]
  },
  {
   "cell_type": "code",
   "execution_count": 67,
   "metadata": {},
   "outputs": [],
   "source": [
    "rect_image_top_matched_temp_bw = cv2.cvtColor(rect_image_top_matched_temp, cv2.COLOR_BGR2GRAY)"
   ]
  },
  {
   "cell_type": "code",
   "execution_count": 109,
   "metadata": {},
   "outputs": [
    {
     "name": "stdout",
     "output_type": "stream",
     "text": [
      "Name\n",
      "Working on annotaion 0\n",
      "Address\n",
      "Working on annotaion 1\n"
     ]
    }
   ],
   "source": [
    "key_val_Top_left_bottom_right_cordinates_list = []\n",
    "for i, key in enumerate(list(points_dict.keys())):\n",
    "    print(key)\n",
    "    print(\"Working on annotaion {}\".format(str(i)))\n",
    "    image_zone = new_image[points_dict[key][0][0][1]:points_dict[key][0][1][1], points_dict[key][0][0][0]:points_dict[key][0][1][0]]\n",
    "    Key_val_matched_image, Key_val_match_cordinates, best_scale_y, best_scale_x = template_match(image_zone, rect_image_top_matched_temp_bw, method=cv2.TM_CCOEFF_NORMED, scale_invariant=False)\n",
    "    key_val_Top_left_bottom_right_cordinates_list.append(Key_val_match_cordinates)"
   ]
  },
  {
   "cell_type": "code",
   "execution_count": 69,
   "metadata": {},
   "outputs": [],
   "source": [
    "#key_val_rect_image_top_matched = cv2.cvtColor(Key_val_matched_image, cv2.COLOR_GRAY2RGB)\n",
    "for i in range(len(key_val_Top_left_bottom_right_cordinates_list)):\n",
    "    key_val_rect_image_top_matched = cv2.rectangle(rect_image_top_matched_temp_bw, key_val_Top_left_bottom_right_cordinates_list[i][0], key_val_Top_left_bottom_right_cordinates_list[i][1], (0,255,0), 5)"
   ]
  },
  {
   "cell_type": "code",
   "execution_count": 70,
   "metadata": {},
   "outputs": [
    {
     "data": {
      "text/plain": [
       "<matplotlib.image.AxesImage at 0x290837339c8>"
      ]
     },
     "execution_count": 70,
     "metadata": {},
     "output_type": "execute_result"
    },
    {
     "data": {
      "image/png": "[encoded data removed]",
      "text/plain": [
       "<Figure size 432x288 with 1 Axes>"
      ]
     },
     "metadata": {
      "needs_background": "light"
     },
     "output_type": "display_data"
    }
   ],
   "source": [
    "plt.imshow(key_val_rect_image_top_matched, cmap='gray')"
   ]
  },
  {
   "cell_type": "code",
   "execution_count": 48,
   "metadata": {},
   "outputs": [],
   "source": [
    "plt.imsave('area_found.jpg', key_val_rect_image_top_matched)"
   ]
  },
  {
   "cell_type": "code",
   "execution_count": 49,
   "metadata": {},
   "outputs": [
    {
     "data": {
      "text/plain": [
       "(101, 396)"
      ]
     },
     "execution_count": 49,
     "metadata": {},
     "output_type": "execute_result"
    }
   ],
   "source": [
    "rect_image_top_matched_temp_bw[key_val_Top_left_bottom_right_cordinates_list[0][0]]"
   ]
  },
  {
   "cell_type": "code",
   "execution_count": 53,
   "metadata": {},
   "outputs": [
    {
     "data": {
      "text/plain": [
       "<matplotlib.image.AxesImage at 0x29087f04848>"
      ]
     },
     "execution_count": 53,
     "metadata": {},
     "output_type": "execute_result"
    },
    {
     "data": {
      "image/png": "[encoded data removed]",
      "text/plain": [
       "<Figure size 432x288 with 1 Axes>"
      ]
     },
     "metadata": {
      "needs_background": "light"
     },
     "output_type": "display_data"
    }
   ],
   "source": [
    "plt.imshow(rect_image_top_matched_temp_bw[key_val_Top_left_bottom_right_cordinates_list[0][0][1]:key_val_Top_left_bottom_right_cordinates_list[0][1][1], key_val_Top_left_bottom_right_cordinates_list[0][0][0]:key_val_Top_left_bottom_right_cordinates_list[0][1][0]]) "
   ]
  },
  {
   "cell_type": "code",
   "execution_count": 139,
   "metadata": {},
   "outputs": [
    {
     "data": {
      "image/png": "[encoded data removed]",
      "text/plain": [
       "<Figure size 432x288 with 2 Axes>"
      ]
     },
     "metadata": {
      "needs_background": "light"
     },
     "output_type": "display_data"
    }
   ],
   "source": [
    "image_in_question_key_cordinates = []\n",
    "\n",
    "iamge_text_dict = dict()\n",
    "for i, pts in enumerate(list(points_dict.keys())):\n",
    "    attribute_bot_rt = points_dict[pts][0][1]\n",
    "    key_top_left = points_dict[pts][1][0]\n",
    "    key_atr_width_dist = key_top_left[0] - attribute_bot_rt[0]\n",
    "    key_atr_height_dist = key_top_left[1] - attribute_bot_rt[1]\n",
    "    key_width = points_dict[pts][1][1][0] - points_dict[pts][1][0][0]\n",
    "    key_height = points_dict[pts][1][1][1] - points_dict[pts][1][0][1]\n",
    "    matched_attr_bot_rt = key_val_Top_left_bottom_right_cordinates_list[i][1]\n",
    "    matched_key_top_left = (matched_attr_bot_rt[0]+key_atr_width_dist, matched_attr_bot_rt[1]+key_atr_height_dist)\n",
    "    matched_key_bot_right = (matched_key_top_left[0]+key_width, matched_key_top_left[1]+key_height)\n",
    "    matched_key_area_of_interest = rect_image_top_matched_temp_bw[matched_key_top_left[1]:matched_key_bot_right[1],matched_key_top_left[0]:matched_key_bot_right[0]]\n",
    "    plt.subplot(len(list(points_dict.keys())), 1, i+1)\n",
    "    plt.imshow(matched_key_area_of_interest)\n",
    "    img_data = pytesseract.image_to_string(matched_key_area_of_interest)\n",
    "    iamge_text_dict[pts] = img_data\n",
    "    image_in_question_key_cordinates.append([matched_key_top_left, matched_key_bot_right])"
   ]
  },
  {
   "cell_type": "code",
   "execution_count": null,
   "metadata": {},
   "outputs": [],
   "source": []
  },
  {
   "cell_type": "markdown",
   "metadata": {},
   "source": [
    "# ----- DANGER----- RESEARCH ONLY-----"
   ]
  },
  {
   "cell_type": "code",
   "execution_count": null,
   "metadata": {},
   "outputs": [],
   "source": [
    "cv2.KAZE()"
   ]
  },
  {
   "cell_type": "code",
   "execution_count": null,
   "metadata": {},
   "outputs": [],
   "source": [
    "akaze = cv2.AKAZE_create()\n",
    "kpts1, desc1 = akaze.detectAndCompute(fake_top_image_converted, None)\n",
    "kpts2, desc2 = akaze.detectAndCompute(base_image_converted, None)"
   ]
  },
  {
   "cell_type": "code",
   "execution_count": null,
   "metadata": {},
   "outputs": [],
   "source": [
    "image = cv2.drawKeypoints(base_image_converted, kpts2, fake_top_image_converted, flags=cv2.DRAW_MATCHES_FLAGS_DRAW_RICH_KEYPOINTS)"
   ]
  },
  {
   "cell_type": "code",
   "execution_count": null,
   "metadata": {},
   "outputs": [],
   "source": [
    "plt.imshow(image, cmap='gray')\n",
    "plt.imsave('temp_image', image)"
   ]
  },
  {
   "cell_type": "code",
   "execution_count": null,
   "metadata": {},
   "outputs": [],
   "source": [
    "matcher = cv2.BFMatcher()\n",
    "nn_matches = matcher.knnMatch(desc1, desc2, 2)"
   ]
  },
  {
   "cell_type": "code",
   "execution_count": null,
   "metadata": {},
   "outputs": [],
   "source": [
    "FLANN_INDEX_KDTREE = 0\n",
    "index_params = dict(algorithm = FLANN_INDEX_KDTREE, trees = 5)\n",
    "search_params = dict(checks=50)\n",
    "flann = cv2.FlannBasedMatcher(index_params,search_params)\n",
    "matches = flann.knnMatch(desc1,desc2,k=2)"
   ]
  },
  {
   "cell_type": "code",
   "execution_count": null,
   "metadata": {},
   "outputs": [],
   "source": [
    "matched1 = []\n",
    "matched2 = []\n",
    "nn_match_ratio = 0.8 # Nearest neighbor matching ratio\n",
    "good_matches = []\n",
    "for m, n in nn_matches:\n",
    "    if m.distance < nn_match_ratio * n.distance:\n",
    "        matched1.append(kpts1[m.queryIdx])\n",
    "        matched2.append(kpts2[m.trainIdx])\n",
    "        good_matches.append([m])"
   ]
  },
  {
   "cell_type": "code",
   "execution_count": null,
   "metadata": {},
   "outputs": [],
   "source": [
    "KAZE_matches = cv2.drawMatchesKnn(fake_top_image_converted,kpts1,base_image_converted,kpts2,good_matches,None,flags=2)"
   ]
  },
  {
   "cell_type": "code",
   "execution_count": null,
   "metadata": {},
   "outputs": [],
   "source": [
    "def display(img,cmap='gray'):\n",
    "    fig = plt.figure(figsize=(12,10))\n",
    "    ax = fig.add_subplot(111)\n",
    "    ax.imshow(img,cmap='gray')"
   ]
  },
  {
   "cell_type": "code",
   "execution_count": null,
   "metadata": {},
   "outputs": [],
   "source": [
    "display(KAZE_matches)"
   ]
  },
  {
   "cell_type": "code",
   "execution_count": null,
   "metadata": {},
   "outputs": [],
   "source": []
  }
 ],
 "metadata": {
  "@webio": {
   "lastCommId": null,
   "lastKernelId": null
  },
  "kernelspec": {
   "display_name": "Python 3",
   "language": "python",
   "name": "python3"
  },
  "language_info": {
   "codemirror_mode": {
    "name": "ipython",
    "version": 3
   },
   "file_extension": ".py",
   "mimetype": "text/x-python",
   "name": "python",
   "nbconvert_exporter": "python",
   "pygments_lexer": "ipython3",
   "version": "3.7.6"
  }
 },
 "nbformat": 4,
 "nbformat_minor": 2
}
